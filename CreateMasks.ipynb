{
 "cells": [
  {
   "cell_type": "code",
   "execution_count": 31,
   "id": "38ddc297-0a7b-47e4-9f95-257b66501808",
   "metadata": {},
   "outputs": [],
   "source": [
    "import numpy as np\n",
    "import cv2\n",
    "import os\n",
    "import glob\n",
    "import json\n",
    "import matplotlib.pyplot as plt"
   ]
  },
  {
   "cell_type": "markdown",
   "id": "07d0cfc6-4523-4c3a-b8ba-258e3271ac0b",
   "metadata": {},
   "source": [
    "## Read list of images and mask files"
   ]
  },
  {
   "cell_type": "code",
   "execution_count": 24,
   "id": "5572ec8e-0bea-4d05-9b6f-a4c4490712a0",
   "metadata": {},
   "outputs": [],
   "source": [
    "imglist = glob.glob(\"rs19_val/jpgs/rs19_val/*.jpg\")\n",
    "jsonlist = []\n",
    "for i in imglist:\n",
    "    jsonlist.append(i[0:9] + 'jsons' + i[-21:-3] + 'json')"
   ]
  },
  {
   "cell_type": "markdown",
   "id": "a0a398e3-2f2a-4b13-95eb-4c7de75ebb53",
   "metadata": {},
   "source": [
    "## Mark tracks\n",
    "\n",
    "Selection:\n",
    "\n",
    "- all tracks\n",
    "- ego track at value 255, other tracks at differen level (NonEgo)\n",
    "- show plots\n",
    "- save overlay images"
   ]
  },
  {
   "cell_type": "code",
   "execution_count": 167,
   "id": "e71338ab-bc2f-4475-86c8-1079d23d7ba0",
   "metadata": {
    "scrolled": true,
    "tags": []
   },
   "outputs": [],
   "source": [
    "ego = True # Mark only ego tracks\n",
    "NonEgo = 0\n",
    "plot = False # Show plots for verification\n",
    "overlay = False\n",
    "for j in jsonlist:\n",
    "    # for all images\n",
    "    with open(j) as json_file:\n",
    "        # read json\n",
    "        data = json.load(json_file)\n",
    "        # open image\n",
    "        im = cv2.imread('rs19_val/jpgs/rs19_val/' + data['frame'] + '.jpg')\n",
    "        # read image dimensions\n",
    "        w = data['imgWidth']\n",
    "        h = data['imgHeight']\n",
    "        # create mask image\n",
    "        mask = np.zeros((h, w))\n",
    "        for o in data['objects']:\n",
    "            if o['label'] == 'rail':\n",
    "                if 'polyline-pair' in o:\n",
    "                    if ego: # Label only ego track\n",
    "                        centerw = 0.5*(np.array(o['polyline-pair'][0])[0,0] + np.array(o['polyline-pair'][1])[0,0])\n",
    "                        centerh = np.array(o['polyline-pair'][0])[0,1]\n",
    "                        if (centerw > 0.4*w) & (centerw < 0.6*w) & (centerh > 0.8*h):\n",
    "                            # Ego track found, label only this\n",
    "                            arr = np.concatenate((np.array(o['polyline-pair'][0]), \n",
    "                                         np.flip(np.array(o['polyline-pair'][1]), axis = 0)))\n",
    "                            arr = np.append(arr, np.array(o['polyline-pair'][0])[0:1,:], axis = 0)\n",
    "                    #print(o['polyline-pair'][1])\n",
    "                            cv2.fillPoly(mask, [arr], color=(255))\n",
    "                        # Label all rails\n",
    "                        else:\n",
    "                            arr = np.concatenate((np.array(o['polyline-pair'][0]), \n",
    "                                         np.flip(np.array(o['polyline-pair'][1]), axis = 0)))\n",
    "                            arr = np.append(arr, np.array(o['polyline-pair'][0])[0:1,:], axis = 0)\n",
    "                    #print(o['polyline-pair'][1])\n",
    "                            cv2.fillPoly(mask, [arr], color=(NonEgo))\n",
    "                    else:\n",
    "                        arr = np.concatenate((np.array(o['polyline-pair'][0]), \n",
    "                                         np.flip(np.array(o['polyline-pair'][1]), axis = 0)))\n",
    "                        arr = np.append(arr, np.array(o['polyline-pair'][0])[0:1,:], axis = 0)\n",
    "                    #print(o['polyline-pair'][1])\n",
    "                        cv2.fillPoly(mask, [arr], color=(255))\n",
    "        if plot:\n",
    "            plt.figure(figsize=(10, 5))\n",
    "            plt.subplot(1, 3, 1)\n",
    "            plt.imshow(mask)\n",
    "            plt.subplot(1, 3, 2)\n",
    "            plt.imshow(im)\n",
    "            plt.subplot(1, 3, 3)\n",
    "            plt.imshow(np.add(mask,[0.33*im[:,:,0]+ 0.33*im[:,:,1] + 0.33*im[:,:,2]])[0,:,:])\n",
    "        if (mask > 0).any():\n",
    "            # Save mask only if there is at least on track\n",
    "            cv2.imwrite('rs19_val/masks/'+ data['frame'] + '_Annotation.png', mask)\n",
    "            if overlay:\n",
    "                cv2.imwrite('rs19_val/overlays/'+ data['frame'] + '_Overlay.png', \n",
    "                            np.add(mask,[0.33*im[:,:,0]+ 0.33*im[:,:,1] + 0.33*im[:,:,2]])[0,:,:])\n",
    "        "
   ]
  }
 ],
 "metadata": {
  "kernelspec": {
   "display_name": "opencv",
   "language": "python",
   "name": "opencv"
  },
  "language_info": {
   "codemirror_mode": {
    "name": "ipython",
    "version": 3
   },
   "file_extension": ".py",
   "mimetype": "text/x-python",
   "name": "python",
   "nbconvert_exporter": "python",
   "pygments_lexer": "ipython3",
   "version": "3.8.3"
  }
 },
 "nbformat": 4,
 "nbformat_minor": 5
}
